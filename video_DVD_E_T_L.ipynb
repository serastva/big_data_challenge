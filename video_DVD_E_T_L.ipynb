{
  "nbformat": 4,
  "nbformat_minor": 0,
  "metadata": {
    "colab": {
      "name": "video_DVD.ipynb",
      "provenance": [],
      "collapsed_sections": []
    },
    "kernelspec": {
      "name": "python3",
      "display_name": "Python 3"
    },
    "language_info": {
      "name": "python"
    },
    "accelerator": "GPU"
  },
  "cells": [
    {
      "cell_type": "code",
      "execution_count": 1,
      "metadata": {
        "colab": {
          "base_uri": "https://localhost:8080/"
        },
        "id": "VHShze1Hu3dT",
        "outputId": "543056fe-b900-4dcc-a94c-529c37b98979"
      },
      "outputs": [
        {
          "output_type": "stream",
          "name": "stdout",
          "text": [
            "\r0% [Working]\r            \rHit:1 http://security.ubuntu.com/ubuntu bionic-security InRelease\n",
            "\r0% [Connecting to archive.ubuntu.com] [Connected to cloud.r-project.org (13.226\r0% [1 InRelease gpgv 88.7 kB] [Connecting to archive.ubuntu.com] [Waiting for h\r                                                                               \rHit:2 https://cloud.r-project.org/bin/linux/ubuntu bionic-cran40/ InRelease\n",
            "\r0% [1 InRelease gpgv 88.7 kB] [Connecting to archive.ubuntu.com] [Connecting to\r                                                                               \rIgn:3 https://developer.download.nvidia.com/compute/cuda/repos/ubuntu1804/x86_64  InRelease\n",
            "Hit:4 http://ppa.launchpad.net/c2d4u.team/c2d4u4.0+/ubuntu bionic InRelease\n",
            "Ign:5 https://developer.download.nvidia.com/compute/machine-learning/repos/ubuntu1804/x86_64  InRelease\n",
            "Hit:6 https://developer.download.nvidia.com/compute/cuda/repos/ubuntu1804/x86_64  Release\n",
            "Hit:7 https://developer.download.nvidia.com/compute/machine-learning/repos/ubuntu1804/x86_64  Release\n",
            "Hit:8 http://archive.ubuntu.com/ubuntu bionic InRelease\n",
            "Hit:9 http://ppa.launchpad.net/cran/libgit2/ubuntu bionic InRelease\n",
            "Hit:10 http://archive.ubuntu.com/ubuntu bionic-updates InRelease\n",
            "Hit:11 http://archive.ubuntu.com/ubuntu bionic-backports InRelease\n",
            "Hit:12 http://ppa.launchpad.net/deadsnakes/ppa/ubuntu bionic InRelease\n",
            "Hit:13 http://ppa.launchpad.net/graphics-drivers/ppa/ubuntu bionic InRelease\n",
            "Reading package lists... Done\n"
          ]
        }
      ],
      "source": [
        "import os\n",
        "# Find the latest version of spark 3.0  from http://www.apache.org/dist/spark/ and enter as the spark version\n",
        "# For example:\n",
        "# spark_version = 'spark-3.2.0'\n",
        "spark_version = 'spark-3.2.0'\n",
        "os.environ['SPARK_VERSION']=spark_version\n",
        "\n",
        "# Install Spark and Java\n",
        "!apt-get update\n",
        "!apt-get install openjdk-11-jdk-headless -qq > /dev/null\n",
        "!wget -q http://www.apache.org/dist/spark/$SPARK_VERSION/$SPARK_VERSION-bin-hadoop2.7.tgz\n",
        "!tar xf $SPARK_VERSION-bin-hadoop2.7.tgz\n",
        "!pip install -q findspark\n",
        "\n",
        "# Set Environment Variables\n",
        "import os\n",
        "os.environ[\"JAVA_HOME\"] = \"/usr/lib/jvm/java-11-openjdk-amd64\"\n",
        "os.environ[\"SPARK_HOME\"] = f\"/content/{spark_version}-bin-hadoop2.7\"\n",
        "\n",
        "# Start a SparkSession\n",
        "import findspark\n",
        "findspark.init()"
      ]
    },
    {
      "cell_type": "code",
      "source": [
        "!wget https://jdbc.postgresql.org/download/postgresql-42.2.9.jar"
      ],
      "metadata": {
        "colab": {
          "base_uri": "https://localhost:8080/"
        },
        "id": "NCSrgHXCvHmM",
        "outputId": "bfdeedd6-cd8b-42a9-9482-c314bb01990a"
      },
      "execution_count": 2,
      "outputs": [
        {
          "output_type": "stream",
          "name": "stdout",
          "text": [
            "--2022-01-09 19:43:56--  https://jdbc.postgresql.org/download/postgresql-42.2.9.jar\n",
            "Resolving jdbc.postgresql.org (jdbc.postgresql.org)... 72.32.157.228, 2001:4800:3e1:1::228\n",
            "Connecting to jdbc.postgresql.org (jdbc.postgresql.org)|72.32.157.228|:443... connected.\n",
            "HTTP request sent, awaiting response... 200 OK\n",
            "Length: 914037 (893K) [application/java-archive]\n",
            "Saving to: ‘postgresql-42.2.9.jar.2’\n",
            "\n",
            "postgresql-42.2.9.j 100%[===================>] 892.61K  --.-KB/s    in 0.08s   \n",
            "\n",
            "2022-01-09 19:43:56 (10.5 MB/s) - ‘postgresql-42.2.9.jar.2’ saved [914037/914037]\n",
            "\n"
          ]
        }
      ]
    },
    {
      "cell_type": "code",
      "source": [
        "from pyspark.sql import SparkSession\n",
        "\n",
        "spark = SparkSession.builder.appName(\"Video_DVD_v1_00\").config(\"spark.driver.extraClassPath\",\"/content/postgresql-42.2.9.jar\").getOrCreate()"
      ],
      "metadata": {
        "id": "0Ab1qvTdvJxy"
      },
      "execution_count": 3,
      "outputs": []
    },
    {
      "cell_type": "code",
      "source": [
        "from pyspark import SparkFiles\n",
        "# Load in data from S3 into a DataFrame\n",
        "url = \"https://s3.amazonaws.com/amazon-reviews-pds/tsv/amazon_reviews_us_Video_DVD_v1_00.tsv.gz\"\n",
        "spark.sparkContext.addFile(url)"
      ],
      "metadata": {
        "id": "FVuL9i7XvPWC"
      },
      "execution_count": 4,
      "outputs": []
    },
    {
      "cell_type": "code",
      "source": [
        "video_dvd_df = spark.read.option('header', 'true').csv(SparkFiles.get(\"amazon_reviews_us_Video_DVD_v1_00.tsv.gz\"), inferSchema=True, sep='\\t')\n",
        "video_dvd_df.show()"
      ],
      "metadata": {
        "id": "CuHbPwM6vcAQ",
        "colab": {
          "base_uri": "https://localhost:8080/"
        },
        "outputId": "02df6d59-273d-442b-95a9-842c9070fde9"
      },
      "execution_count": 5,
      "outputs": [
        {
          "output_type": "stream",
          "name": "stdout",
          "text": [
            "+-----------+-----------+--------------+----------+--------------+--------------------+----------------+-----------+-------------+-----------+----+-----------------+--------------------+--------------------+-----------+\n",
            "|marketplace|customer_id|     review_id|product_id|product_parent|       product_title|product_category|star_rating|helpful_votes|total_votes|vine|verified_purchase|     review_headline|         review_body|review_date|\n",
            "+-----------+-----------+--------------+----------+--------------+--------------------+----------------+-----------+-------------+-----------+----+-----------------+--------------------+--------------------+-----------+\n",
            "|         US|   27288431| R33UPQQUZQEM8|B005T4ND06|     400024643|Yoga for Movement...|       Video DVD|          5|            3|          3|   N|                Y|This was a gift f...|This was a gift f...| 2015-08-31|\n",
            "|         US|   13722556|R3IKTNQQPD9662|B004EPZ070|     685335564|  Something Borrowed|       Video DVD|          5|            0|          0|   N|                Y|          Five Stars| Teats my heart out.| 2015-08-31|\n",
            "|         US|   20381037|R3U27V5QMCP27T|B005S9EKCW|     922008804|Les Miserables (2...|       Video DVD|          5|            1|          1|   N|                Y|        Great movie!|        Great movie.| 2015-08-31|\n",
            "|         US|   24852644|R2TOH2QKNK4IOC|B00FC1ZCB4|     326560548|Alien Anthology a...|       Video DVD|          5|            0|          1|   N|                Y|             Amazing|My husband was so...| 2015-08-31|\n",
            "|         US|   15556113|R2XQG5NJ59UFMY|B002ZG98Z0|     637495038|  Sex and the City 2|       Video DVD|          5|            0|          0|   N|                Y|          Five Stars|   Love this series.| 2015-08-31|\n",
            "|         US|    6132474|R1N1KHBRR4ZTX3|B00X8RONBO|     896602391|When Calls The He...|       Video DVD|          5|            0|          0|   N|                Y|          Five Stars|            love it!| 2015-08-31|\n",
            "|         US|   48049524|R3OM9S0TCBP38K|B000CEXFZG|     115883890|Teen Titans - The...|       Video DVD|          5|            0|          0|   N|                Y|               Great|Better than the c...| 2015-08-31|\n",
            "|         US|    3282516|R1W4S949ZRCTBW|B00ID8H8EW|     977932459|      Generation War|       Video DVD|          5|            0|          0|   N|                Y|          Five Stars|I really emjoyed ...| 2015-08-31|\n",
            "|         US|   51771179|R18JL1NNQAZFV2|B000TGJ8IU|     840084782|Troy  (Director's...|       Video DVD|          5|            0|          0|   N|                Y|          Five Stars|Awesome movie, we...| 2015-08-31|\n",
            "|         US|   31816501|R1LP6PR06OPYUX|B00DPMPTDS|     262144920|Faith Aka the Gre...|       Video DVD|          4|            0|          0|   N|                Y|a beautiful fanta...|...a beautiful fa...| 2015-08-31|\n",
            "|         US|   16164990| RZKBT035JA0UQ|B00X797LUS|     883589001|   Revenge: Season 4|       Video DVD|          5|            1|          2|   N|                Y|  It's a hit with me|I don't usually w...| 2015-08-31|\n",
            "|         US|   33386989|R253N5W74SM7N3|B00C6MXB42|     734735137|YOUNG INDIANA JON...|       Video DVD|          4|            1|          1|   N|                Y|great stuff. I th...|great stuff.  I t...| 2015-08-31|\n",
            "|         US|   45486371|R2D5IFTFPHD3RN|B000EZ9084|     821764517|     Survival Island|       Video DVD|          4|            1|          1|   N|                Y|          Four Stars|           very good| 2015-08-31|\n",
            "|         US|   14006420|R1CECK3H1URK1G|B000CEXFZG|     115883890|Teen Titans - The...|       Video DVD|          5|            0|          0|   N|                Y|          Five Stars|Kids love the DVD...| 2015-08-31|\n",
            "|         US|   23411619|R11MHQRE45204T|B00KXEM6XM|     651533797|     Fargo: Season 1|       Video DVD|          5|            0|          0|   N|                Y|A wonderful cover...|Great news Fargo ...| 2015-08-31|\n",
            "|         US|    3202332| RSX9F068J0GXJ|B0036K9CM8|     231498541|Disney Parks: The...|       Video DVD|          5|            0|          0|   N|                Y|We love Disney an...|We love Disney an...| 2015-08-31|\n",
            "|         US|   32012808|R1TUMFHZBBOWKL|B00G3HOJZ6|     847624020|Young Detective D...|       Video DVD|          5|            0|          0|   N|                Y|Excellent Movie f...|This is a surpris...| 2015-08-31|\n",
            "|         US|   36507765| R8IZ1G1TWGK0E|B00V5E7YR2|     478422254|The Divergent Ser...|       Video DVD|          5|            0|          0|   N|                Y|          Five Stars|          Good movie| 2015-08-31|\n",
            "|         US|   13696097|R1CBN0585B7BI4|B005BUA1JY|     700104332|Barney Miller: Th...|       Video DVD|          5|            0|          1|   N|                Y|          Five Stars|This show is a cl...| 2015-08-31|\n",
            "|         US|    2190805|R2PJOAZ9I3D8O8|B00YCY46VO|     710263340|Inside Out (Blu-r...|       Video DVD|          5|            2|          2|   N|                N|An Instant Master...|Inside Out revolv...| 2015-08-31|\n",
            "+-----------+-----------+--------------+----------+--------------+--------------------+----------------+-----------+-------------+-----------+----+-----------------+--------------------+--------------------+-----------+\n",
            "only showing top 20 rows\n",
            "\n"
          ]
        }
      ]
    },
    {
      "cell_type": "code",
      "source": [
        "#Count number of records in each row\n",
        "\n",
        "video_dvd_df.count()"
      ],
      "metadata": {
        "id": "hIjcm-cDQueA",
        "colab": {
          "base_uri": "https://localhost:8080/"
        },
        "outputId": "10fedd22-9264-4290-c77d-4619f3819eb4"
      },
      "execution_count": 6,
      "outputs": [
        {
          "output_type": "execute_result",
          "data": {
            "text/plain": [
              "5069140"
            ]
          },
          "metadata": {},
          "execution_count": 6
        }
      ]
    },
    {
      "cell_type": "code",
      "source": [
        "#Drop empty\n",
        "video_dvd_df = video_dvd_df.dropna()\n",
        "video_dvd_df.show()"
      ],
      "metadata": {
        "id": "HJE2mNhXQoPy",
        "colab": {
          "base_uri": "https://localhost:8080/"
        },
        "outputId": "ed7ca138-478c-4b5e-ba2f-fc0b24b3e74b"
      },
      "execution_count": 7,
      "outputs": [
        {
          "output_type": "stream",
          "name": "stdout",
          "text": [
            "+-----------+-----------+--------------+----------+--------------+--------------------+----------------+-----------+-------------+-----------+----+-----------------+--------------------+--------------------+-----------+\n",
            "|marketplace|customer_id|     review_id|product_id|product_parent|       product_title|product_category|star_rating|helpful_votes|total_votes|vine|verified_purchase|     review_headline|         review_body|review_date|\n",
            "+-----------+-----------+--------------+----------+--------------+--------------------+----------------+-----------+-------------+-----------+----+-----------------+--------------------+--------------------+-----------+\n",
            "|         US|   27288431| R33UPQQUZQEM8|B005T4ND06|     400024643|Yoga for Movement...|       Video DVD|          5|            3|          3|   N|                Y|This was a gift f...|This was a gift f...| 2015-08-31|\n",
            "|         US|   13722556|R3IKTNQQPD9662|B004EPZ070|     685335564|  Something Borrowed|       Video DVD|          5|            0|          0|   N|                Y|          Five Stars| Teats my heart out.| 2015-08-31|\n",
            "|         US|   20381037|R3U27V5QMCP27T|B005S9EKCW|     922008804|Les Miserables (2...|       Video DVD|          5|            1|          1|   N|                Y|        Great movie!|        Great movie.| 2015-08-31|\n",
            "|         US|   24852644|R2TOH2QKNK4IOC|B00FC1ZCB4|     326560548|Alien Anthology a...|       Video DVD|          5|            0|          1|   N|                Y|             Amazing|My husband was so...| 2015-08-31|\n",
            "|         US|   15556113|R2XQG5NJ59UFMY|B002ZG98Z0|     637495038|  Sex and the City 2|       Video DVD|          5|            0|          0|   N|                Y|          Five Stars|   Love this series.| 2015-08-31|\n",
            "|         US|    6132474|R1N1KHBRR4ZTX3|B00X8RONBO|     896602391|When Calls The He...|       Video DVD|          5|            0|          0|   N|                Y|          Five Stars|            love it!| 2015-08-31|\n",
            "|         US|   48049524|R3OM9S0TCBP38K|B000CEXFZG|     115883890|Teen Titans - The...|       Video DVD|          5|            0|          0|   N|                Y|               Great|Better than the c...| 2015-08-31|\n",
            "|         US|    3282516|R1W4S949ZRCTBW|B00ID8H8EW|     977932459|      Generation War|       Video DVD|          5|            0|          0|   N|                Y|          Five Stars|I really emjoyed ...| 2015-08-31|\n",
            "|         US|   51771179|R18JL1NNQAZFV2|B000TGJ8IU|     840084782|Troy  (Director's...|       Video DVD|          5|            0|          0|   N|                Y|          Five Stars|Awesome movie, we...| 2015-08-31|\n",
            "|         US|   31816501|R1LP6PR06OPYUX|B00DPMPTDS|     262144920|Faith Aka the Gre...|       Video DVD|          4|            0|          0|   N|                Y|a beautiful fanta...|...a beautiful fa...| 2015-08-31|\n",
            "|         US|   16164990| RZKBT035JA0UQ|B00X797LUS|     883589001|   Revenge: Season 4|       Video DVD|          5|            1|          2|   N|                Y|  It's a hit with me|I don't usually w...| 2015-08-31|\n",
            "|         US|   33386989|R253N5W74SM7N3|B00C6MXB42|     734735137|YOUNG INDIANA JON...|       Video DVD|          4|            1|          1|   N|                Y|great stuff. I th...|great stuff.  I t...| 2015-08-31|\n",
            "|         US|   45486371|R2D5IFTFPHD3RN|B000EZ9084|     821764517|     Survival Island|       Video DVD|          4|            1|          1|   N|                Y|          Four Stars|           very good| 2015-08-31|\n",
            "|         US|   14006420|R1CECK3H1URK1G|B000CEXFZG|     115883890|Teen Titans - The...|       Video DVD|          5|            0|          0|   N|                Y|          Five Stars|Kids love the DVD...| 2015-08-31|\n",
            "|         US|   23411619|R11MHQRE45204T|B00KXEM6XM|     651533797|     Fargo: Season 1|       Video DVD|          5|            0|          0|   N|                Y|A wonderful cover...|Great news Fargo ...| 2015-08-31|\n",
            "|         US|    3202332| RSX9F068J0GXJ|B0036K9CM8|     231498541|Disney Parks: The...|       Video DVD|          5|            0|          0|   N|                Y|We love Disney an...|We love Disney an...| 2015-08-31|\n",
            "|         US|   32012808|R1TUMFHZBBOWKL|B00G3HOJZ6|     847624020|Young Detective D...|       Video DVD|          5|            0|          0|   N|                Y|Excellent Movie f...|This is a surpris...| 2015-08-31|\n",
            "|         US|   36507765| R8IZ1G1TWGK0E|B00V5E7YR2|     478422254|The Divergent Ser...|       Video DVD|          5|            0|          0|   N|                Y|          Five Stars|          Good movie| 2015-08-31|\n",
            "|         US|   13696097|R1CBN0585B7BI4|B005BUA1JY|     700104332|Barney Miller: Th...|       Video DVD|          5|            0|          1|   N|                Y|          Five Stars|This show is a cl...| 2015-08-31|\n",
            "|         US|    2190805|R2PJOAZ9I3D8O8|B00YCY46VO|     710263340|Inside Out (Blu-r...|       Video DVD|          5|            2|          2|   N|                N|An Instant Master...|Inside Out revolv...| 2015-08-31|\n",
            "+-----------+-----------+--------------+----------+--------------+--------------------+----------------+-----------+-------------+-----------+----+-----------------+--------------------+--------------------+-----------+\n",
            "only showing top 20 rows\n",
            "\n"
          ]
        }
      ]
    },
    {
      "cell_type": "code",
      "source": [
        "#Customer table \n",
        "customer_df = video_dvd_df.select([\"customer_id\"])\n",
        "customer_df.show()"
      ],
      "metadata": {
        "id": "Ed50ut4WRVwt",
        "colab": {
          "base_uri": "https://localhost:8080/"
        },
        "outputId": "0ca0199a-1692-41f2-f69c-a8ab9ddf0547"
      },
      "execution_count": 8,
      "outputs": [
        {
          "output_type": "stream",
          "name": "stdout",
          "text": [
            "+-----------+\n",
            "|customer_id|\n",
            "+-----------+\n",
            "|   27288431|\n",
            "|   13722556|\n",
            "|   20381037|\n",
            "|   24852644|\n",
            "|   15556113|\n",
            "|    6132474|\n",
            "|   48049524|\n",
            "|    3282516|\n",
            "|   51771179|\n",
            "|   31816501|\n",
            "|   16164990|\n",
            "|   33386989|\n",
            "|   45486371|\n",
            "|   14006420|\n",
            "|   23411619|\n",
            "|    3202332|\n",
            "|   32012808|\n",
            "|   36507765|\n",
            "|   13696097|\n",
            "|    2190805|\n",
            "+-----------+\n",
            "only showing top 20 rows\n",
            "\n"
          ]
        }
      ]
    },
    {
      "cell_type": "code",
      "source": [
        "customer_df = customer_df.groupBy(\"customer_id\").count()\n",
        "customer_df.orderBy(\"customer_id\").select([\"customer_id\", \"count\"])\n",
        "customer_df.show()"
      ],
      "metadata": {
        "id": "BehaZ4h6SGWq",
        "colab": {
          "base_uri": "https://localhost:8080/"
        },
        "outputId": "63af7e1e-48d3-4f44-f2a9-41d2d6b34670"
      },
      "execution_count": 9,
      "outputs": [
        {
          "output_type": "stream",
          "name": "stdout",
          "text": [
            "+-----------+-----+\n",
            "|customer_id|count|\n",
            "+-----------+-----+\n",
            "|   24423656|    8|\n",
            "|   24297214|    1|\n",
            "|   12879980|    3|\n",
            "|     515450|    2|\n",
            "|   13313689|    1|\n",
            "|   15523729|    4|\n",
            "|    1673863|    1|\n",
            "|   14552054|    2|\n",
            "|   45392827|   14|\n",
            "|   44178035|    1|\n",
            "|   10522786|   10|\n",
            "|   44848424|    3|\n",
            "|   14230926|    1|\n",
            "|   49243158|  274|\n",
            "|   49084939|   10|\n",
            "|   28777148|   41|\n",
            "|   41836864|    1|\n",
            "|    5219946|    1|\n",
            "|   37795150|    1|\n",
            "|   52081222|    1|\n",
            "+-----------+-----+\n",
            "only showing top 20 rows\n",
            "\n"
          ]
        }
      ]
    },
    {
      "cell_type": "code",
      "source": [
        "customer_df = customer_df.withColumnRenamed(\"count\", \"customer_count\")\n",
        "customer_df.show()"
      ],
      "metadata": {
        "id": "fnJjmO0pSVIi",
        "colab": {
          "base_uri": "https://localhost:8080/"
        },
        "outputId": "7e85103c-4cf4-4a5e-a331-7cf0cb4ea6bf"
      },
      "execution_count": 10,
      "outputs": [
        {
          "output_type": "stream",
          "name": "stdout",
          "text": [
            "+-----------+--------------+\n",
            "|customer_id|customer_count|\n",
            "+-----------+--------------+\n",
            "|   24423656|             8|\n",
            "|   24297214|             1|\n",
            "|   12879980|             3|\n",
            "|     515450|             2|\n",
            "|   13313689|             1|\n",
            "|   15523729|             4|\n",
            "|    1673863|             1|\n",
            "|   14552054|             2|\n",
            "|   45392827|            14|\n",
            "|   44178035|             1|\n",
            "|   10522786|            10|\n",
            "|   44848424|             3|\n",
            "|   14230926|             1|\n",
            "|   49243158|           274|\n",
            "|   49084939|            10|\n",
            "|   28777148|            41|\n",
            "|   41836864|             1|\n",
            "|    5219946|             1|\n",
            "|   37795150|             1|\n",
            "|   52081222|             1|\n",
            "+-----------+--------------+\n",
            "only showing top 20 rows\n",
            "\n"
          ]
        }
      ]
    },
    {
      "cell_type": "code",
      "source": [
        "customer_df.printSchema()"
      ],
      "metadata": {
        "id": "RyPKlpUYV0e_",
        "colab": {
          "base_uri": "https://localhost:8080/"
        },
        "outputId": "beab3ee5-0e19-4df2-b851-0f0fc43c08cc"
      },
      "execution_count": 11,
      "outputs": [
        {
          "output_type": "stream",
          "name": "stdout",
          "text": [
            "root\n",
            " |-- customer_id: integer (nullable = true)\n",
            " |-- customer_count: long (nullable = false)\n",
            "\n"
          ]
        }
      ]
    },
    {
      "cell_type": "code",
      "source": [
        "#Products table\n",
        "products_df = video_dvd_df.select([\"product_id\", \"product_title\"])\n",
        "products_df.show()"
      ],
      "metadata": {
        "id": "aiyNEC65VP3z",
        "colab": {
          "base_uri": "https://localhost:8080/"
        },
        "outputId": "64ae9927-a870-424a-8d6a-25c1e274919f"
      },
      "execution_count": 12,
      "outputs": [
        {
          "output_type": "stream",
          "name": "stdout",
          "text": [
            "+----------+--------------------+\n",
            "|product_id|       product_title|\n",
            "+----------+--------------------+\n",
            "|B005T4ND06|Yoga for Movement...|\n",
            "|B004EPZ070|  Something Borrowed|\n",
            "|B005S9EKCW|Les Miserables (2...|\n",
            "|B00FC1ZCB4|Alien Anthology a...|\n",
            "|B002ZG98Z0|  Sex and the City 2|\n",
            "|B00X8RONBO|When Calls The He...|\n",
            "|B000CEXFZG|Teen Titans - The...|\n",
            "|B00ID8H8EW|      Generation War|\n",
            "|B000TGJ8IU|Troy  (Director's...|\n",
            "|B00DPMPTDS|Faith Aka the Gre...|\n",
            "|B00X797LUS|   Revenge: Season 4|\n",
            "|B00C6MXB42|YOUNG INDIANA JON...|\n",
            "|B000EZ9084|     Survival Island|\n",
            "|B000CEXFZG|Teen Titans - The...|\n",
            "|B00KXEM6XM|     Fargo: Season 1|\n",
            "|B0036K9CM8|Disney Parks: The...|\n",
            "|B00G3HOJZ6|Young Detective D...|\n",
            "|B00V5E7YR2|The Divergent Ser...|\n",
            "|B005BUA1JY|Barney Miller: Th...|\n",
            "|B00YCY46VO|Inside Out (Blu-r...|\n",
            "+----------+--------------------+\n",
            "only showing top 20 rows\n",
            "\n"
          ]
        }
      ]
    },
    {
      "cell_type": "code",
      "source": [
        "products_df = products_df.dropDuplicates([\"product_id\"])"
      ],
      "metadata": {
        "id": "eGFygApSVuBE"
      },
      "execution_count": 13,
      "outputs": []
    },
    {
      "cell_type": "code",
      "source": [
        "products_df.printSchema()"
      ],
      "metadata": {
        "id": "ecmnBSWeVyEI",
        "colab": {
          "base_uri": "https://localhost:8080/"
        },
        "outputId": "7c8660e7-1962-4597-90eb-9fef9afbde27"
      },
      "execution_count": 14,
      "outputs": [
        {
          "output_type": "stream",
          "name": "stdout",
          "text": [
            "root\n",
            " |-- product_id: string (nullable = true)\n",
            " |-- product_title: string (nullable = true)\n",
            "\n"
          ]
        }
      ]
    },
    {
      "cell_type": "code",
      "source": [
        "#Review ID table\n",
        "review_id_df = video_dvd_df.select([\"review_id\", \"customer_id\", \"product_id\", \"product_parent\", \"review_date\"])\n",
        "review_id_df.show()"
      ],
      "metadata": {
        "id": "EUT0bQMjV9yU",
        "colab": {
          "base_uri": "https://localhost:8080/"
        },
        "outputId": "35e30e19-b602-49a5-9650-e631636f0ed3"
      },
      "execution_count": 15,
      "outputs": [
        {
          "output_type": "stream",
          "name": "stdout",
          "text": [
            "+--------------+-----------+----------+--------------+-----------+\n",
            "|     review_id|customer_id|product_id|product_parent|review_date|\n",
            "+--------------+-----------+----------+--------------+-----------+\n",
            "| R33UPQQUZQEM8|   27288431|B005T4ND06|     400024643| 2015-08-31|\n",
            "|R3IKTNQQPD9662|   13722556|B004EPZ070|     685335564| 2015-08-31|\n",
            "|R3U27V5QMCP27T|   20381037|B005S9EKCW|     922008804| 2015-08-31|\n",
            "|R2TOH2QKNK4IOC|   24852644|B00FC1ZCB4|     326560548| 2015-08-31|\n",
            "|R2XQG5NJ59UFMY|   15556113|B002ZG98Z0|     637495038| 2015-08-31|\n",
            "|R1N1KHBRR4ZTX3|    6132474|B00X8RONBO|     896602391| 2015-08-31|\n",
            "|R3OM9S0TCBP38K|   48049524|B000CEXFZG|     115883890| 2015-08-31|\n",
            "|R1W4S949ZRCTBW|    3282516|B00ID8H8EW|     977932459| 2015-08-31|\n",
            "|R18JL1NNQAZFV2|   51771179|B000TGJ8IU|     840084782| 2015-08-31|\n",
            "|R1LP6PR06OPYUX|   31816501|B00DPMPTDS|     262144920| 2015-08-31|\n",
            "| RZKBT035JA0UQ|   16164990|B00X797LUS|     883589001| 2015-08-31|\n",
            "|R253N5W74SM7N3|   33386989|B00C6MXB42|     734735137| 2015-08-31|\n",
            "|R2D5IFTFPHD3RN|   45486371|B000EZ9084|     821764517| 2015-08-31|\n",
            "|R1CECK3H1URK1G|   14006420|B000CEXFZG|     115883890| 2015-08-31|\n",
            "|R11MHQRE45204T|   23411619|B00KXEM6XM|     651533797| 2015-08-31|\n",
            "| RSX9F068J0GXJ|    3202332|B0036K9CM8|     231498541| 2015-08-31|\n",
            "|R1TUMFHZBBOWKL|   32012808|B00G3HOJZ6|     847624020| 2015-08-31|\n",
            "| R8IZ1G1TWGK0E|   36507765|B00V5E7YR2|     478422254| 2015-08-31|\n",
            "|R1CBN0585B7BI4|   13696097|B005BUA1JY|     700104332| 2015-08-31|\n",
            "|R2PJOAZ9I3D8O8|    2190805|B00YCY46VO|     710263340| 2015-08-31|\n",
            "+--------------+-----------+----------+--------------+-----------+\n",
            "only showing top 20 rows\n",
            "\n"
          ]
        }
      ]
    },
    {
      "cell_type": "code",
      "source": [
        "review_id_df = review_id_df.dropDuplicates([\"review_id\"])"
      ],
      "metadata": {
        "id": "26oKnTW4WM-G"
      },
      "execution_count": 16,
      "outputs": []
    },
    {
      "cell_type": "code",
      "source": [
        "from pyspark.sql.functions import to_date\n",
        "review_id_df = review_id_df.withColumn(\"review_date\", to_date(\"review_date\", \"yyyy-mm-dd\"))\n",
        "review_id_df.show()"
      ],
      "metadata": {
        "id": "IghZ4s3PQ1-I",
        "colab": {
          "base_uri": "https://localhost:8080/"
        },
        "outputId": "e2b1c071-107c-4e2a-cb5a-bc27c13a869b"
      },
      "execution_count": 17,
      "outputs": [
        {
          "output_type": "stream",
          "name": "stdout",
          "text": [
            "+--------------+-----------+----------+--------------+-----------+\n",
            "|     review_id|customer_id|product_id|product_parent|review_date|\n",
            "+--------------+-----------+----------+--------------+-----------+\n",
            "|R10001AHXOVM1D|   52844477|B002SAMMME|     928289592| 2013-01-28|\n",
            "|R10001CO1GYGD2|   16603554|B004EPYZQC|     882178125| 2015-01-28|\n",
            "| R10005SNUJV5F|   52297858|B000WSL5Y0|     868442264| 2007-01-20|\n",
            "|R1000EYE058JQ3|   48067221|B0040QTNSU|     536583030| 2013-01-02|\n",
            "|R1000MLE0GNLFR|   20402828|B0001CNQX0|     925397883| 2014-01-01|\n",
            "|R1000T2T0N7UCL|   48235711|B00OZOIIDI|     609057797| 2015-01-01|\n",
            "|R10013H9RV0WBR|   47197376|B00792EGES|     570435481| 2012-01-20|\n",
            "|R10017U6MHZJXI|   36136786|B006MIVXD2|     396056697| 2012-01-02|\n",
            "|R10018KB9W03HZ|   41701804|B000AXWHSA|      62988144| 2006-01-10|\n",
            "|R1001GVQHKRHXY|   39825523|B00005O0SO|     160376251| 2010-01-25|\n",
            "|R1001KODYJ7N9C|   28963980|B00000K31T|     956207558| 2003-01-09|\n",
            "|R1001KXUA9YP4X|   46128922|B00005JNWM|      93901757| 2005-01-08|\n",
            "|R1001L8YPJORKW|   10510479|B000069CFB|     660776107| 2006-01-19|\n",
            "|R1001MCJCCMA6E|   46484169|B000I2J6O6|     246795803| 2013-01-28|\n",
            "|R1001V5LM4FIDM|   42590987|B000G0DFT2|      62370279| 2011-01-16|\n",
            "|R1001Y18S9NZ9R|   22656440|B0017WI5JI|     215545369| 2014-01-16|\n",
            "|R10025Z6IIBK0X|   39166971|B00007BK2R|     756681515| 2009-01-29|\n",
            "|R10026UNN1JVV4|   40879775|B00867GHS8|     495882719| 2013-01-17|\n",
            "|R10029MWW2NOLP|   33003438|B00006673P|     804932523| 2005-01-19|\n",
            "|R1002GBE2JTAR3|    5763584|B000TGJ808|     881075179| 2014-01-12|\n",
            "+--------------+-----------+----------+--------------+-----------+\n",
            "only showing top 20 rows\n",
            "\n"
          ]
        }
      ]
    },
    {
      "cell_type": "code",
      "source": [
        "review_id_df.printSchema()"
      ],
      "metadata": {
        "id": "bbGugNf8WQb9",
        "colab": {
          "base_uri": "https://localhost:8080/"
        },
        "outputId": "bcf682e5-c942-4cae-f507-446a9efb85ec"
      },
      "execution_count": 18,
      "outputs": [
        {
          "output_type": "stream",
          "name": "stdout",
          "text": [
            "root\n",
            " |-- review_id: string (nullable = true)\n",
            " |-- customer_id: integer (nullable = true)\n",
            " |-- product_id: string (nullable = true)\n",
            " |-- product_parent: integer (nullable = true)\n",
            " |-- review_date: date (nullable = true)\n",
            "\n"
          ]
        }
      ]
    },
    {
      "cell_type": "code",
      "source": [
        "#Vine table\n",
        "vine_df = video_dvd_df.select([\"review_id\", \"star_rating\", \"helpful_votes\", \"total_votes\"])\n",
        "vine_df.show()"
      ],
      "metadata": {
        "id": "MXymQf_IWpXt",
        "colab": {
          "base_uri": "https://localhost:8080/"
        },
        "outputId": "e4ea539f-b07e-42b0-d50a-27c1ce00cd44"
      },
      "execution_count": 19,
      "outputs": [
        {
          "output_type": "stream",
          "name": "stdout",
          "text": [
            "+--------------+-----------+-------------+-----------+\n",
            "|     review_id|star_rating|helpful_votes|total_votes|\n",
            "+--------------+-----------+-------------+-----------+\n",
            "| R33UPQQUZQEM8|          5|            3|          3|\n",
            "|R3IKTNQQPD9662|          5|            0|          0|\n",
            "|R3U27V5QMCP27T|          5|            1|          1|\n",
            "|R2TOH2QKNK4IOC|          5|            0|          1|\n",
            "|R2XQG5NJ59UFMY|          5|            0|          0|\n",
            "|R1N1KHBRR4ZTX3|          5|            0|          0|\n",
            "|R3OM9S0TCBP38K|          5|            0|          0|\n",
            "|R1W4S949ZRCTBW|          5|            0|          0|\n",
            "|R18JL1NNQAZFV2|          5|            0|          0|\n",
            "|R1LP6PR06OPYUX|          4|            0|          0|\n",
            "| RZKBT035JA0UQ|          5|            1|          2|\n",
            "|R253N5W74SM7N3|          4|            1|          1|\n",
            "|R2D5IFTFPHD3RN|          4|            1|          1|\n",
            "|R1CECK3H1URK1G|          5|            0|          0|\n",
            "|R11MHQRE45204T|          5|            0|          0|\n",
            "| RSX9F068J0GXJ|          5|            0|          0|\n",
            "|R1TUMFHZBBOWKL|          5|            0|          0|\n",
            "| R8IZ1G1TWGK0E|          5|            0|          0|\n",
            "|R1CBN0585B7BI4|          5|            0|          1|\n",
            "|R2PJOAZ9I3D8O8|          5|            2|          2|\n",
            "+--------------+-----------+-------------+-----------+\n",
            "only showing top 20 rows\n",
            "\n"
          ]
        }
      ]
    },
    {
      "cell_type": "code",
      "source": [
        "vine_df = vine_df.dropDuplicates([\"review_id\"])"
      ],
      "metadata": {
        "id": "K-oPZZLnXFTj"
      },
      "execution_count": 20,
      "outputs": []
    },
    {
      "cell_type": "code",
      "source": [
        "vine_df.count()"
      ],
      "metadata": {
        "id": "NmJnr0OLXeHf",
        "colab": {
          "base_uri": "https://localhost:8080/"
        },
        "outputId": "f69a77b2-dac0-4541-b284-6b424875f85e"
      },
      "execution_count": 21,
      "outputs": [
        {
          "output_type": "execute_result",
          "data": {
            "text/plain": [
              "5068421"
            ]
          },
          "metadata": {},
          "execution_count": 21
        }
      ]
    },
    {
      "cell_type": "code",
      "source": [
        "vine_df.printSchema()"
      ],
      "metadata": {
        "id": "Bs2wLQcRXKBS",
        "colab": {
          "base_uri": "https://localhost:8080/"
        },
        "outputId": "6df8f116-3283-43d3-a371-cb32207907b2"
      },
      "execution_count": 22,
      "outputs": [
        {
          "output_type": "stream",
          "name": "stdout",
          "text": [
            "root\n",
            " |-- review_id: string (nullable = true)\n",
            " |-- star_rating: integer (nullable = true)\n",
            " |-- helpful_votes: integer (nullable = true)\n",
            " |-- total_votes: integer (nullable = true)\n",
            "\n"
          ]
        }
      ]
    },
    {
      "cell_type": "code",
      "source": [
        "mode = \"append\"\n",
        "jdbc_url = \"jdbc:postgresql://mypostgresdb.cqxo6vsypirs.us-east-1.rds.amazonaws.com:5432/mypostgresdb\"\n",
        "config = {\"user\": \"root\", \"password\":\"password1\", \"driver\": \"org.postgresql.Driver\"}"
      ],
      "metadata": {
        "id": "e8F5B4aH1xBZ"
      },
      "execution_count": 23,
      "outputs": []
    },
    {
      "cell_type": "code",
      "source": [
        "customer_df.write.jdbc(url=jdbc_url, table=\"customers\", mode = mode, properties = config)\n"
      ],
      "metadata": {
        "id": "Puz_AMYZ15aM"
      },
      "execution_count": 25,
      "outputs": []
    },
    {
      "cell_type": "code",
      "source": [
        "products_df.write.jdbc(url=jdbc_url, table=\"products\", mode = mode, properties = config)"
      ],
      "metadata": {
        "id": "Y3wbrUkm1-pc"
      },
      "execution_count": 26,
      "outputs": []
    },
    {
      "cell_type": "code",
      "source": [
        "review_id_df.write.jdbc(url=jdbc_url, table=\"review_id_table\", mode = mode, properties = config)\n"
      ],
      "metadata": {
        "id": "hQhLHncQ1_hm"
      },
      "execution_count": 27,
      "outputs": []
    },
    {
      "cell_type": "code",
      "source": [
        "vine_df.write.jdbc(url=jdbc_url, table=\"vine_table\", mode = mode, properties = config)"
      ],
      "metadata": {
        "id": "K37n7iR-2BEV"
      },
      "execution_count": 28,
      "outputs": []
    }
  ]
}